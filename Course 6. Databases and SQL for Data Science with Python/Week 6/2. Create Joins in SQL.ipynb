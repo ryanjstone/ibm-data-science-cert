{
 "cells": [
  {
   "cell_type": "code",
   "execution_count": null,
   "metadata": {},
   "outputs": [],
   "source": [
    "%pip install jupysql duckdb-engine"
   ]
  },
  {
   "cell_type": "code",
   "execution_count": 3,
   "metadata": {},
   "outputs": [],
   "source": [
    "%reload_ext sql"
   ]
  },
  {
   "cell_type": "code",
   "execution_count": 4,
   "metadata": {},
   "outputs": [
    {
     "data": {
      "text/html": [
       "<span style=\"None\">Connecting to &#x27;duckdb:///hr.data.db&#x27;</span>"
      ],
      "text/plain": [
       "Connecting to 'duckdb:///hr.data.db'"
      ]
     },
     "metadata": {},
     "output_type": "display_data"
    }
   ],
   "source": [
    "%sql duckdb:///hr.data.db"
   ]
  },
  {
   "cell_type": "code",
   "execution_count": 6,
   "metadata": {},
   "outputs": [
    {
     "data": {
      "text/html": [
       "<span style=\"None\">Running query in &#x27;duckdb:///hr.data.db&#x27;</span>"
      ],
      "text/plain": [
       "Running query in 'duckdb:///hr.data.db'"
      ]
     },
     "metadata": {},
     "output_type": "display_data"
    },
    {
     "data": {
      "text/html": [
       "<table>\n",
       "    <thead>\n",
       "        <tr>\n",
       "            <th>Count</th>\n",
       "        </tr>\n",
       "    </thead>\n",
       "    <tbody>\n",
       "    </tbody>\n",
       "</table>"
      ],
      "text/plain": [
       "+-------+\n",
       "| Count |\n",
       "+-------+\n",
       "+-------+"
      ]
     },
     "execution_count": 6,
     "metadata": {},
     "output_type": "execute_result"
    }
   ],
   "source": [
    "%%sql\n",
    "\n",
    "CREATE TABLE EMPLOYEES (\n",
    "                            EMP_ID CHAR(9) NOT NULL, \n",
    "                            F_NAME VARCHAR(15) NOT NULL,\n",
    "                            L_NAME VARCHAR(15) NOT NULL,\n",
    "                            SSN CHAR(9),\n",
    "                            B_DATE DATE,\n",
    "                            SEX CHAR,\n",
    "                            ADDRESS VARCHAR(30),\n",
    "                            JOB_ID CHAR(9),\n",
    "                            SALARY DECIMAL(10,2),\n",
    "                            MANAGER_ID CHAR(9),\n",
    "                            DEP_ID CHAR(9) NOT NULL,\n",
    "                            PRIMARY KEY (EMP_ID));\n",
    "                            \n",
    "  CREATE TABLE JOB_HISTORY (\n",
    "                            EMPL_ID CHAR(9) NOT NULL, \n",
    "                            START_DATE DATE,\n",
    "                            JOBS_ID CHAR(9) NOT NULL,\n",
    "                            DEPT_ID CHAR(9),\n",
    "                            PRIMARY KEY (EMPL_ID,JOBS_ID));\n",
    " \n",
    " CREATE TABLE JOBS (\n",
    "                            JOB_IDENT CHAR(9) NOT NULL, \n",
    "                            JOB_TITLE VARCHAR(30),\n",
    "                            MIN_SALARY DECIMAL(10,2),\n",
    "                            MAX_SALARY DECIMAL(10,2),\n",
    "                            PRIMARY KEY (JOB_IDENT));\n",
    "\n",
    "CREATE TABLE DEPARTMENTS (\n",
    "                            DEPT_ID_DEP CHAR(9) NOT NULL, \n",
    "                            DEP_NAME VARCHAR(15) ,\n",
    "                            MANAGER_ID CHAR(9),\n",
    "                            LOC_ID CHAR(9),\n",
    "                            PRIMARY KEY (DEPT_ID_DEP));\n",
    "\n",
    "CREATE TABLE LOCATIONS (\n",
    "                            LOCT_ID CHAR(9) NOT NULL,\n",
    "                            DEP_ID_LOC CHAR(9) NOT NULL,\n",
    "                            PRIMARY KEY (LOCT_ID,DEP_ID_LOC));"
   ]
  },
  {
   "cell_type": "code",
   "execution_count": 10,
   "metadata": {},
   "outputs": [
    {
     "data": {
      "text/html": [
       "<span style=\"None\">Running query in &#x27;duckdb:///hr.data.db&#x27;</span>"
      ],
      "text/plain": [
       "Running query in 'duckdb:///hr.data.db'"
      ]
     },
     "metadata": {},
     "output_type": "display_data"
    },
    {
     "data": {
      "text/html": [
       "<table>\n",
       "    <thead>\n",
       "        <tr>\n",
       "            <th>LOCT_ID</th>\n",
       "            <th>DEP_ID_LOC</th>\n",
       "        </tr>\n",
       "    </thead>\n",
       "    <tbody>\n",
       "        <tr>\n",
       "            <td>L0001</td>\n",
       "            <td>2</td>\n",
       "        </tr>\n",
       "        <tr>\n",
       "            <td>L0002</td>\n",
       "            <td>5</td>\n",
       "        </tr>\n",
       "        <tr>\n",
       "            <td>L0003</td>\n",
       "            <td>7</td>\n",
       "        </tr>\n",
       "    </tbody>\n",
       "</table>"
      ],
      "text/plain": [
       "+---------+------------+\n",
       "| LOCT_ID | DEP_ID_LOC |\n",
       "+---------+------------+\n",
       "|  L0001  |     2      |\n",
       "|  L0002  |     5      |\n",
       "|  L0003  |     7      |\n",
       "+---------+------------+"
      ]
     },
     "execution_count": 10,
     "metadata": {},
     "output_type": "execute_result"
    }
   ],
   "source": [
    "%%sql INSERT INTO LOCATIONS SELECT * FROM read_csv('https://cf-courses-data.s3.us.cloud-object-storage.appdomain.cloud/IBMDeveloperSkillsNetwork-DB0201EN-SkillsNetwork/labs/Module%202/data/Locations.csv');\n",
    "FROM LOCATIONS"
   ]
  },
  {
   "cell_type": "code",
   "execution_count": 12,
   "metadata": {},
   "outputs": [
    {
     "data": {
      "text/html": [
       "<span style=\"None\">Running query in &#x27;duckdb:///hr.data.db&#x27;</span>"
      ],
      "text/plain": [
       "Running query in 'duckdb:///hr.data.db'"
      ]
     },
     "metadata": {},
     "output_type": "display_data"
    },
    {
     "data": {
      "text/html": [
       "<table>\n",
       "    <thead>\n",
       "        <tr>\n",
       "            <th>Count</th>\n",
       "        </tr>\n",
       "    </thead>\n",
       "    <tbody>\n",
       "    </tbody>\n",
       "</table>"
      ],
      "text/plain": [
       "+-------+\n",
       "| Count |\n",
       "+-------+\n",
       "+-------+"
      ]
     },
     "execution_count": 12,
     "metadata": {},
     "output_type": "execute_result"
    }
   ],
   "source": [
    "%sql INSERT INTO DEPARTMENTS SELECT * FROM read_csv('https://cf-courses-data.s3.us.cloud-object-storage.appdomain.cloud/IBMDeveloperSkillsNetwork-DB0201EN-SkillsNetwork/labs/Labs_Coursera_V5/datasets/HR_Database/Departments.csv')"
   ]
  },
  {
   "cell_type": "code",
   "execution_count": 19,
   "metadata": {},
   "outputs": [
    {
     "data": {
      "text/html": [
       "<span style=\"None\">Running query in &#x27;duckdb:///hr.data.db&#x27;</span>"
      ],
      "text/plain": [
       "Running query in 'duckdb:///hr.data.db'"
      ]
     },
     "metadata": {},
     "output_type": "display_data"
    },
    {
     "data": {
      "text/html": [
       "<table>\n",
       "    <thead>\n",
       "        <tr>\n",
       "            <th>Count</th>\n",
       "        </tr>\n",
       "    </thead>\n",
       "    <tbody>\n",
       "    </tbody>\n",
       "</table>"
      ],
      "text/plain": [
       "+-------+\n",
       "| Count |\n",
       "+-------+\n",
       "+-------+"
      ]
     },
     "execution_count": 19,
     "metadata": {},
     "output_type": "execute_result"
    }
   ],
   "source": [
    "%sql INSERT INTO EMPLOYEES SELECT * FROM read_csv('https://cf-courses-data.s3.us.cloud-object-storage.appdomain.cloud/IBMDeveloperSkillsNetwork-DB0201EN-SkillsNetwork/labs/Module%202/data/Employees.csv')"
   ]
  },
  {
   "cell_type": "code",
   "execution_count": 24,
   "metadata": {},
   "outputs": [
    {
     "data": {
      "text/html": [
       "<span style=\"None\">Running query in &#x27;duckdb:///hr.data.db&#x27;</span>"
      ],
      "text/plain": [
       "Running query in 'duckdb:///hr.data.db'"
      ]
     },
     "metadata": {},
     "output_type": "display_data"
    },
    {
     "data": {
      "text/html": [
       "<table>\n",
       "    <thead>\n",
       "        <tr>\n",
       "            <th>Count</th>\n",
       "        </tr>\n",
       "    </thead>\n",
       "    <tbody>\n",
       "    </tbody>\n",
       "</table>"
      ],
      "text/plain": [
       "+-------+\n",
       "| Count |\n",
       "+-------+\n",
       "+-------+"
      ]
     },
     "execution_count": 24,
     "metadata": {},
     "output_type": "execute_result"
    }
   ],
   "source": [
    "%sql INSERT INTO JOBS SELECT * FROM read_csv('https://cf-courses-data.s3.us.cloud-object-storage.appdomain.cloud/IBMDeveloperSkillsNetwork-DB0201EN-SkillsNetwork/labs/Module%202/data/Jobs.csv')"
   ]
  },
  {
   "cell_type": "code",
   "execution_count": 26,
   "metadata": {},
   "outputs": [
    {
     "data": {
      "text/html": [
       "<span style=\"None\">Running query in &#x27;duckdb:///hr.data.db&#x27;</span>"
      ],
      "text/plain": [
       "Running query in 'duckdb:///hr.data.db'"
      ]
     },
     "metadata": {},
     "output_type": "display_data"
    },
    {
     "data": {
      "text/html": [
       "<table>\n",
       "    <thead>\n",
       "        <tr>\n",
       "            <th>Count</th>\n",
       "        </tr>\n",
       "    </thead>\n",
       "    <tbody>\n",
       "    </tbody>\n",
       "</table>"
      ],
      "text/plain": [
       "+-------+\n",
       "| Count |\n",
       "+-------+\n",
       "+-------+"
      ]
     },
     "execution_count": 26,
     "metadata": {},
     "output_type": "execute_result"
    }
   ],
   "source": [
    "%sql INSERT INTO JOB_HISTORY SELECT * FROM read_csv('https://cf-courses-data.s3.us.cloud-object-storage.appdomain.cloud/IBMDeveloperSkillsNetwork-DB0201EN-SkillsNetwork/labs/Module%202/data/JobsHistory.csv')"
   ]
  },
  {
   "cell_type": "code",
   "execution_count": 30,
   "metadata": {},
   "outputs": [
    {
     "data": {
      "text/html": [
       "<span style=\"None\">Running query in &#x27;duckdb:///hr.data.db&#x27;</span>"
      ],
      "text/plain": [
       "Running query in 'duckdb:///hr.data.db'"
      ]
     },
     "metadata": {},
     "output_type": "display_data"
    },
    {
     "data": {
      "text/html": [
       "<table>\n",
       "    <thead>\n",
       "        <tr>\n",
       "            <th>F_NAME</th>\n",
       "            <th>L_NAME</th>\n",
       "            <th>START_DATE</th>\n",
       "        </tr>\n",
       "    </thead>\n",
       "    <tbody>\n",
       "        <tr>\n",
       "            <td>Alice</td>\n",
       "            <td>James</td>\n",
       "            <td>2001-08-01</td>\n",
       "        </tr>\n",
       "        <tr>\n",
       "            <td>Steve</td>\n",
       "            <td>Wells</td>\n",
       "            <td>2001-08-16</td>\n",
       "        </tr>\n",
       "        <tr>\n",
       "            <td>Santosh</td>\n",
       "            <td>Kumar</td>\n",
       "            <td>2000-08-16</td>\n",
       "        </tr>\n",
       "        <tr>\n",
       "            <td>Ann</td>\n",
       "            <td>Jacob</td>\n",
       "            <td>2016-08-16</td>\n",
       "        </tr>\n",
       "    </tbody>\n",
       "</table>"
      ],
      "text/plain": [
       "+---------+--------+------------+\n",
       "|  F_NAME | L_NAME | START_DATE |\n",
       "+---------+--------+------------+\n",
       "|  Alice  | James  | 2001-08-01 |\n",
       "|  Steve  | Wells  | 2001-08-16 |\n",
       "| Santosh | Kumar  | 2000-08-16 |\n",
       "|   Ann   | Jacob  | 2016-08-16 |\n",
       "+---------+--------+------------+"
      ]
     },
     "execution_count": 30,
     "metadata": {},
     "output_type": "execute_result"
    }
   ],
   "source": [
    "%%sql\n",
    "\n",
    "# Include the following columns: first name, last name from the employees table and start date from the job history table\n",
    "# From the employees table, defined as E\n",
    "# Include the job history table defined as JH as an inner join which returns only the rows with matching values in both tables\n",
    "# Join over the the employee ID\n",
    "# List records where the department ID is 5\n",
    "\n",
    "SELECT E.F_NAME,E.L_NAME, JH.START_DATE\n",
    "FROM EMPLOYEES as E\n",
    "INNER JOIN JOB_HISTORY as JH \n",
    "ON E.EMP_ID=JH.EMPL_ID\n",
    "WHERE E.DEP_ID ='5';"
   ]
  },
  {
   "cell_type": "code",
   "execution_count": 29,
   "metadata": {},
   "outputs": [
    {
     "data": {
      "text/html": [
       "<span style=\"None\">Running query in &#x27;duckdb:///hr.data.db&#x27;</span>"
      ],
      "text/plain": [
       "Running query in 'duckdb:///hr.data.db'"
      ]
     },
     "metadata": {},
     "output_type": "display_data"
    },
    {
     "data": {
      "text/html": [
       "<table>\n",
       "    <thead>\n",
       "        <tr>\n",
       "            <th>EMP_ID</th>\n",
       "            <th>L_NAME</th>\n",
       "            <th>DEP_ID</th>\n",
       "            <th>DEP_NAME</th>\n",
       "        </tr>\n",
       "    </thead>\n",
       "    <tbody>\n",
       "        <tr>\n",
       "            <td>E1001</td>\n",
       "            <td>Thomas</td>\n",
       "            <td>2</td>\n",
       "            <td>Architect Group</td>\n",
       "        </tr>\n",
       "        <tr>\n",
       "            <td>E1002</td>\n",
       "            <td>James</td>\n",
       "            <td>5</td>\n",
       "            <td>Software Group</td>\n",
       "        </tr>\n",
       "        <tr>\n",
       "            <td>E1003</td>\n",
       "            <td>Wells</td>\n",
       "            <td>5</td>\n",
       "            <td>Software Group</td>\n",
       "        </tr>\n",
       "        <tr>\n",
       "            <td>E1004</td>\n",
       "            <td>Kumar</td>\n",
       "            <td>5</td>\n",
       "            <td>Software Group</td>\n",
       "        </tr>\n",
       "        <tr>\n",
       "            <td>E1005</td>\n",
       "            <td>Hussain</td>\n",
       "            <td>2</td>\n",
       "            <td>Architect Group</td>\n",
       "        </tr>\n",
       "        <tr>\n",
       "            <td>E1006</td>\n",
       "            <td>Allen</td>\n",
       "            <td>2</td>\n",
       "            <td>Architect Group</td>\n",
       "        </tr>\n",
       "        <tr>\n",
       "            <td>E1007</td>\n",
       "            <td>Thomas</td>\n",
       "            <td>7</td>\n",
       "            <td>Design Team</td>\n",
       "        </tr>\n",
       "        <tr>\n",
       "            <td>E1008</td>\n",
       "            <td>Gupta</td>\n",
       "            <td>7</td>\n",
       "            <td>Design Team</td>\n",
       "        </tr>\n",
       "        <tr>\n",
       "            <td>E1009</td>\n",
       "            <td>Jones</td>\n",
       "            <td>7</td>\n",
       "            <td>Design Team</td>\n",
       "        </tr>\n",
       "        <tr>\n",
       "            <td>E1010</td>\n",
       "            <td>Jacob</td>\n",
       "            <td>5</td>\n",
       "            <td>Software Group</td>\n",
       "        </tr>\n",
       "    </tbody>\n",
       "</table>\n",
       "<span style=\"font-style:italic;text-align:center;\">Truncated to <a href=\"https://jupysql.ploomber.io/en/latest/api/configuration.html#displaylimit\">displaylimit</a> of 10.</span>"
      ],
      "text/plain": [
       "+--------+---------+--------+-----------------+\n",
       "| EMP_ID |  L_NAME | DEP_ID |     DEP_NAME    |\n",
       "+--------+---------+--------+-----------------+\n",
       "| E1001  |  Thomas |   2    | Architect Group |\n",
       "| E1002  |  James  |   5    |  Software Group |\n",
       "| E1003  |  Wells  |   5    |  Software Group |\n",
       "| E1004  |  Kumar  |   5    |  Software Group |\n",
       "| E1005  | Hussain |   2    | Architect Group |\n",
       "| E1006  |  Allen  |   2    | Architect Group |\n",
       "| E1007  |  Thomas |   7    |   Design Team   |\n",
       "| E1008  |  Gupta  |   7    |   Design Team   |\n",
       "| E1009  |  Jones  |   7    |   Design Team   |\n",
       "| E1010  |  Jacob  |   5    |  Software Group |\n",
       "+--------+---------+--------+-----------------+\n",
       "Truncated to displaylimit of 10."
      ]
     },
     "execution_count": 29,
     "metadata": {},
     "output_type": "execute_result"
    }
   ],
   "source": [
    "%%sql\n",
    "\n",
    "# Include the following columns: employee ID, last name, department ID from Employees table and department name from departments table\n",
    "# From the employees table, defined as E\n",
    "# Include departments table defined as D as an left outer join which returns all the rows from left table and matching rows from right table\n",
    "# Join over the the department ID\n",
    "\n",
    "SELECT E.EMP_ID, E.L_NAME, E.DEP_ID, D.DEP_NAME\n",
    "FROM EMPLOYEES AS E \n",
    "LEFT OUTER JOIN DEPARTMENTS AS D\n",
    "ON E.DEP_ID=D.DEPT_ID_DEP;"
   ]
  },
  {
   "cell_type": "code",
   "execution_count": 33,
   "metadata": {},
   "outputs": [
    {
     "data": {
      "text/html": [
       "<span style=\"None\">Running query in &#x27;duckdb:///hr.data.db&#x27;</span>"
      ],
      "text/plain": [
       "Running query in 'duckdb:///hr.data.db'"
      ]
     },
     "metadata": {},
     "output_type": "display_data"
    },
    {
     "data": {
      "text/html": [
       "<table>\n",
       "    <thead>\n",
       "        <tr>\n",
       "            <th>F_NAME</th>\n",
       "            <th>L_NAME</th>\n",
       "            <th>DEP_NAME</th>\n",
       "        </tr>\n",
       "    </thead>\n",
       "    <tbody>\n",
       "        <tr>\n",
       "            <td>Steve</td>\n",
       "            <td>Wells</td>\n",
       "            <td>Software Group</td>\n",
       "        </tr>\n",
       "        <tr>\n",
       "            <td>Santosh</td>\n",
       "            <td>Kumar</td>\n",
       "            <td>Software Group</td>\n",
       "        </tr>\n",
       "        <tr>\n",
       "            <td>Nancy</td>\n",
       "            <td>Allen</td>\n",
       "            <td>Architect Group</td>\n",
       "        </tr>\n",
       "        <tr>\n",
       "            <td>Bharath</td>\n",
       "            <td>Gupta</td>\n",
       "            <td>Design Team</td>\n",
       "        </tr>\n",
       "        <tr>\n",
       "            <td>Ann</td>\n",
       "            <td>Jacob</td>\n",
       "            <td>Software Group</td>\n",
       "        </tr>\n",
       "        <tr>\n",
       "            <td>Alice</td>\n",
       "            <td>James</td>\n",
       "            <td>Software Group</td>\n",
       "        </tr>\n",
       "        <tr>\n",
       "            <td>John</td>\n",
       "            <td>Thomas</td>\n",
       "            <td>Architect Group</td>\n",
       "        </tr>\n",
       "        <tr>\n",
       "            <td>Ahmed</td>\n",
       "            <td>Hussain</td>\n",
       "            <td>Architect Group</td>\n",
       "        </tr>\n",
       "        <tr>\n",
       "            <td>Mary</td>\n",
       "            <td>Thomas</td>\n",
       "            <td>Design Team</td>\n",
       "        </tr>\n",
       "        <tr>\n",
       "            <td>Andrea</td>\n",
       "            <td>Jones</td>\n",
       "            <td>Design Team</td>\n",
       "        </tr>\n",
       "    </tbody>\n",
       "</table>\n",
       "<span style=\"font-style:italic;text-align:center;\">Truncated to <a href=\"https://jupysql.ploomber.io/en/latest/api/configuration.html#displaylimit\">displaylimit</a> of 10.</span>"
      ],
      "text/plain": [
       "+---------+---------+-----------------+\n",
       "|  F_NAME |  L_NAME |     DEP_NAME    |\n",
       "+---------+---------+-----------------+\n",
       "|  Steve  |  Wells  |  Software Group |\n",
       "| Santosh |  Kumar  |  Software Group |\n",
       "|  Nancy  |  Allen  | Architect Group |\n",
       "| Bharath |  Gupta  |   Design Team   |\n",
       "|   Ann   |  Jacob  |  Software Group |\n",
       "|  Alice  |  James  |  Software Group |\n",
       "|   John  |  Thomas | Architect Group |\n",
       "|  Ahmed  | Hussain | Architect Group |\n",
       "|   Mary  |  Thomas |   Design Team   |\n",
       "|  Andrea |  Jones  |   Design Team   |\n",
       "+---------+---------+-----------------+\n",
       "Truncated to displaylimit of 10."
      ]
     },
     "execution_count": 33,
     "metadata": {},
     "output_type": "execute_result"
    }
   ],
   "source": [
    "%%sql\n",
    "\n",
    "# Include the following columns: first name and last name from the Employees table and department name from the departments table\n",
    "# From the employees table, defined as E\n",
    "# Include departments table defined as D as an left outer join which returns all the rows from the left table and matching rows from the right table\n",
    "# Join over the the department ID\n",
    "# Join left and right outer joins\n",
    "# Include the following columns: first name and last name from the Employees table and department name from the departments table\n",
    "# From the employees table, defined as E\n",
    "# Include departments table defined as D as an right outer join which returns all the rows from the right table and matching rows from the left table\n",
    "# Join over the the department ID\n",
    "\n",
    "SELECT E.F_NAME, E.L_NAME, D.DEP_NAME\n",
    "FROM EMPLOYEES AS E\n",
    "LEFT OUTER JOIN DEPARTMENTS AS D\n",
    "ON E.DEP_ID = D.DEPT_ID_DEP\n",
    "\n",
    "UNION\n",
    "\n",
    "SELECT E.F_NAME, E.L_NAME, D.DEP_NAME\n",
    "FROM EMPLOYEES AS E\n",
    "RIGHT OUTER JOIN DEPARTMENTS AS D\n",
    "ON E.DEP_ID=D.DEPT_ID_DEP"
   ]
  },
  {
   "cell_type": "code",
   "execution_count": 39,
   "metadata": {},
   "outputs": [
    {
     "data": {
      "text/html": [
       "<span style=\"None\">Running query in &#x27;duckdb:///hr.data.db&#x27;</span>"
      ],
      "text/plain": [
       "Running query in 'duckdb:///hr.data.db'"
      ]
     },
     "metadata": {},
     "output_type": "display_data"
    },
    {
     "data": {
      "text/html": [
       "<table>\n",
       "    <thead>\n",
       "        <tr>\n",
       "            <th>F_NAME</th>\n",
       "            <th>L_NAME</th>\n",
       "            <th>START_DATE</th>\n",
       "            <th>JOB_TITLE</th>\n",
       "        </tr>\n",
       "    </thead>\n",
       "    <tbody>\n",
       "        <tr>\n",
       "            <td>Alice</td>\n",
       "            <td>James</td>\n",
       "            <td>2001-08-01</td>\n",
       "            <td>Sr. Software Developer</td>\n",
       "        </tr>\n",
       "        <tr>\n",
       "            <td>Steve</td>\n",
       "            <td>Wells</td>\n",
       "            <td>2001-08-16</td>\n",
       "            <td>Jr.Software Developer</td>\n",
       "        </tr>\n",
       "        <tr>\n",
       "            <td>Santosh</td>\n",
       "            <td>Kumar</td>\n",
       "            <td>2000-08-16</td>\n",
       "            <td>Jr.Software Developer</td>\n",
       "        </tr>\n",
       "        <tr>\n",
       "            <td>Ann</td>\n",
       "            <td>Jacob</td>\n",
       "            <td>2016-08-16</td>\n",
       "            <td>Sr. Designer</td>\n",
       "        </tr>\n",
       "    </tbody>\n",
       "</table>"
      ],
      "text/plain": [
       "+---------+--------+------------+------------------------+\n",
       "|  F_NAME | L_NAME | START_DATE |       JOB_TITLE        |\n",
       "+---------+--------+------------+------------------------+\n",
       "|  Alice  | James  | 2001-08-01 | Sr. Software Developer |\n",
       "|  Steve  | Wells  | 2001-08-16 | Jr.Software Developer  |\n",
       "| Santosh | Kumar  | 2000-08-16 | Jr.Software Developer  |\n",
       "|   Ann   | Jacob  | 2016-08-16 |      Sr. Designer      |\n",
       "+---------+--------+------------+------------------------+"
      ]
     },
     "execution_count": 39,
     "metadata": {},
     "output_type": "execute_result"
    }
   ],
   "source": [
    "%%sql\n",
    "\n",
    "# Retrieve the names, job start dates, and job titles of all employees who work for department number 5\n",
    "# Include the following columns: first, last name from employee, start date from job history and job title from jobs\n",
    "# From the employees table (E)\n",
    "# Include job history table (JH) as an inner join over the employee ID\n",
    "# Include jobs table (J) as an inner join over the job ID\n",
    "# Retrieve records where department number is 5\n",
    "\n",
    "SELECT E.F_NAME, E.L_NAME, JH.START_DATE, J.JOB_TITLE\n",
    "FROM EMPLOYEES as E\n",
    "INNER JOIN JOB_HISTORY as JH ON E.EMP_ID=JH.EMPL_ID\n",
    "INNER JOIN JOBS as J ON E.JOB_ID=J.JOB_IDENT\n",
    "WHERE E.DEP_ID ='5';"
   ]
  },
  {
   "cell_type": "code",
   "execution_count": 53,
   "metadata": {},
   "outputs": [
    {
     "data": {
      "text/html": [
       "<span style=\"None\">Running query in &#x27;duckdb:///hr.data.db&#x27;</span>"
      ],
      "text/plain": [
       "Running query in 'duckdb:///hr.data.db'"
      ]
     },
     "metadata": {},
     "output_type": "display_data"
    },
    {
     "data": {
      "text/html": [
       "<table>\n",
       "    <thead>\n",
       "        <tr>\n",
       "            <th>EMP_ID</th>\n",
       "            <th>L_NAME</th>\n",
       "            <th>DEPT_ID_DEP</th>\n",
       "            <th>DEP_NAME</th>\n",
       "        </tr>\n",
       "    </thead>\n",
       "    <tbody>\n",
       "        <tr>\n",
       "            <td>E1001</td>\n",
       "            <td>Thomas</td>\n",
       "            <td>2</td>\n",
       "            <td>Architect Group</td>\n",
       "        </tr>\n",
       "        <tr>\n",
       "            <td>E1006</td>\n",
       "            <td>Allen</td>\n",
       "            <td>2</td>\n",
       "            <td>Architect Group</td>\n",
       "        </tr>\n",
       "        <tr>\n",
       "            <td>E1002</td>\n",
       "            <td>James</td>\n",
       "            <td>5</td>\n",
       "            <td>Software Group</td>\n",
       "        </tr>\n",
       "        <tr>\n",
       "            <td>E1007</td>\n",
       "            <td>Thomas</td>\n",
       "            <td>7</td>\n",
       "            <td>Design Team</td>\n",
       "        </tr>\n",
       "        <tr>\n",
       "            <td>E1003</td>\n",
       "            <td>Wells</td>\n",
       "            <td>None</td>\n",
       "            <td>None</td>\n",
       "        </tr>\n",
       "        <tr>\n",
       "            <td>E1004</td>\n",
       "            <td>Kumar</td>\n",
       "            <td>None</td>\n",
       "            <td>None</td>\n",
       "        </tr>\n",
       "        <tr>\n",
       "            <td>E1005</td>\n",
       "            <td>Hussain</td>\n",
       "            <td>None</td>\n",
       "            <td>None</td>\n",
       "        </tr>\n",
       "        <tr>\n",
       "            <td>E1008</td>\n",
       "            <td>Gupta</td>\n",
       "            <td>None</td>\n",
       "            <td>None</td>\n",
       "        </tr>\n",
       "        <tr>\n",
       "            <td>E1009</td>\n",
       "            <td>Jones</td>\n",
       "            <td>None</td>\n",
       "            <td>None</td>\n",
       "        </tr>\n",
       "        <tr>\n",
       "            <td>E1010</td>\n",
       "            <td>Jacob</td>\n",
       "            <td>None</td>\n",
       "            <td>None</td>\n",
       "        </tr>\n",
       "    </tbody>\n",
       "</table>\n",
       "<span style=\"font-style:italic;text-align:center;\">Truncated to <a href=\"https://jupysql.ploomber.io/en/latest/api/configuration.html#displaylimit\">displaylimit</a> of 10.</span>"
      ],
      "text/plain": [
       "+--------+---------+-------------+-----------------+\n",
       "| EMP_ID |  L_NAME | DEPT_ID_DEP |     DEP_NAME    |\n",
       "+--------+---------+-------------+-----------------+\n",
       "| E1001  |  Thomas |      2      | Architect Group |\n",
       "| E1006  |  Allen  |      2      | Architect Group |\n",
       "| E1002  |  James  |      5      |  Software Group |\n",
       "| E1007  |  Thomas |      7      |   Design Team   |\n",
       "| E1003  |  Wells  |     None    |       None      |\n",
       "| E1004  |  Kumar  |     None    |       None      |\n",
       "| E1005  | Hussain |     None    |       None      |\n",
       "| E1008  |  Gupta  |     None    |       None      |\n",
       "| E1009  |  Jones  |     None    |       None      |\n",
       "| E1010  |  Jacob  |     None    |       None      |\n",
       "+--------+---------+-------------+-----------------+\n",
       "Truncated to displaylimit of 10."
      ]
     },
     "execution_count": 53,
     "metadata": {},
     "output_type": "execute_result"
    }
   ],
   "source": [
    "%%sql\n",
    "\n",
    "# Retrieve employee ID, last name, and department ID for all employees but department names for only those born before 1980\n",
    "# Include the following columns: employee ID, last name, department ID, department name\n",
    "# From the employees table (E) and from the departments table (D) as an left outer join over the department ID\n",
    "# When the year of the employee's birth date is before 1980\n",
    "\n",
    "SELECT E.EMP_ID, E.L_NAME, D.DEPT_ID_DEP, D.DEP_NAME\n",
    "FROM EMPLOYEES AS E \n",
    "LEFT OUTER JOIN DEPARTMENTS AS D\n",
    "ON E.DEP_ID=D.DEPT_ID_DEP\n",
    "AND YEAR(E.B_DATE) < 1980;\n"
   ]
  },
  {
   "cell_type": "code",
   "execution_count": 56,
   "metadata": {},
   "outputs": [
    {
     "data": {
      "text/html": [
       "<span style=\"None\">Running query in &#x27;duckdb:///hr.data.db&#x27;</span>"
      ],
      "text/plain": [
       "Running query in 'duckdb:///hr.data.db'"
      ]
     },
     "metadata": {},
     "output_type": "display_data"
    },
    {
     "data": {
      "text/html": [
       "<table>\n",
       "    <thead>\n",
       "        <tr>\n",
       "            <th>F_NAME</th>\n",
       "            <th>L_NAME</th>\n",
       "            <th>DEPT_ID_DEP</th>\n",
       "            <th>DEP_NAME</th>\n",
       "        </tr>\n",
       "    </thead>\n",
       "    <tbody>\n",
       "        <tr>\n",
       "            <td>John</td>\n",
       "            <td>Thomas</td>\n",
       "            <td>2</td>\n",
       "            <td>Architect Group</td>\n",
       "        </tr>\n",
       "        <tr>\n",
       "            <td>Ahmed</td>\n",
       "            <td>Hussain</td>\n",
       "            <td>2</td>\n",
       "            <td>Architect Group</td>\n",
       "        </tr>\n",
       "        <tr>\n",
       "            <td>Steve</td>\n",
       "            <td>Wells</td>\n",
       "            <td>5</td>\n",
       "            <td>Software Group</td>\n",
       "        </tr>\n",
       "        <tr>\n",
       "            <td>Santosh</td>\n",
       "            <td>Kumar</td>\n",
       "            <td>5</td>\n",
       "            <td>Software Group</td>\n",
       "        </tr>\n",
       "        <tr>\n",
       "            <td>Bharath</td>\n",
       "            <td>Gupta</td>\n",
       "            <td>7</td>\n",
       "            <td>Design Team</td>\n",
       "        </tr>\n",
       "        <tr>\n",
       "            <td>Alice</td>\n",
       "            <td>James</td>\n",
       "            <td>None</td>\n",
       "            <td>None</td>\n",
       "        </tr>\n",
       "        <tr>\n",
       "            <td>Nancy</td>\n",
       "            <td>Allen</td>\n",
       "            <td>None</td>\n",
       "            <td>None</td>\n",
       "        </tr>\n",
       "        <tr>\n",
       "            <td>Mary</td>\n",
       "            <td>Thomas</td>\n",
       "            <td>None</td>\n",
       "            <td>None</td>\n",
       "        </tr>\n",
       "        <tr>\n",
       "            <td>Andrea</td>\n",
       "            <td>Jones</td>\n",
       "            <td>None</td>\n",
       "            <td>None</td>\n",
       "        </tr>\n",
       "        <tr>\n",
       "            <td>Ann</td>\n",
       "            <td>Jacob</td>\n",
       "            <td>None</td>\n",
       "            <td>None</td>\n",
       "        </tr>\n",
       "    </tbody>\n",
       "</table>\n",
       "<span style=\"font-style:italic;text-align:center;\">Truncated to <a href=\"https://jupysql.ploomber.io/en/latest/api/configuration.html#displaylimit\">displaylimit</a> of 10.</span>"
      ],
      "text/plain": [
       "+---------+---------+-------------+-----------------+\n",
       "|  F_NAME |  L_NAME | DEPT_ID_DEP |     DEP_NAME    |\n",
       "+---------+---------+-------------+-----------------+\n",
       "|   John  |  Thomas |      2      | Architect Group |\n",
       "|  Ahmed  | Hussain |      2      | Architect Group |\n",
       "|  Steve  |  Wells  |      5      |  Software Group |\n",
       "| Santosh |  Kumar  |      5      |  Software Group |\n",
       "| Bharath |  Gupta  |      7      |   Design Team   |\n",
       "|  Alice  |  James  |     None    |       None      |\n",
       "|  Nancy  |  Allen  |     None    |       None      |\n",
       "|   Mary  |  Thomas |     None    |       None      |\n",
       "|  Andrea |  Jones  |     None    |       None      |\n",
       "|   Ann   |  Jacob  |     None    |       None      |\n",
       "+---------+---------+-------------+-----------------+\n",
       "Truncated to displaylimit of 10."
      ]
     },
     "execution_count": 56,
     "metadata": {},
     "output_type": "execute_result"
    }
   ],
   "source": [
    "%%sql\n",
    "\n",
    "# Retrieve the first name and last name of all employees but department ID and department names only for male employees\n",
    "# Include the following columns: first name, last name, department ID, department name\n",
    "# From the employees table (E) and from the departments table (D) as an left outer join over the department ID\n",
    "# When the sex of the employee is male\n",
    "\n",
    "SELECT E.F_NAME, E.L_NAME, D.DEPT_ID_DEP, D.DEP_NAME\n",
    "FROM EMPLOYEES AS E \n",
    "LEFT OUTER JOIN DEPARTMENTS AS D\n",
    "ON E.DEP_ID=D.DEPT_ID_DEP\n",
    "AND E.SEX = 'M';"
   ]
  },
  {
   "cell_type": "code",
   "execution_count": null,
   "metadata": {},
   "outputs": [],
   "source": []
  }
 ],
 "metadata": {
  "kernelspec": {
   "display_name": "base",
   "language": "python",
   "name": "python3"
  },
  "language_info": {
   "codemirror_mode": {
    "name": "ipython",
    "version": 3
   },
   "file_extension": ".py",
   "mimetype": "text/x-python",
   "name": "python",
   "nbconvert_exporter": "python",
   "pygments_lexer": "ipython3",
   "version": "3.11.8"
  }
 },
 "nbformat": 4,
 "nbformat_minor": 2
}
